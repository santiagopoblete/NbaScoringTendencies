{
 "cells": [
  {
   "cell_type": "markdown",
   "id": "5180a299-76fe-43eb-af49-f9644bf5c49d",
   "metadata": {},
   "source": [
    "# Investigating Shooting Tendencies in the Modern Era of Basketball.\n",
    "_by Santiago Eduardo Poblete Talamante_"
   ]
  },
  {
   "cell_type": "markdown",
   "id": "aac386bc-a52e-470d-901b-e1b9d10df82a",
   "metadata": {},
   "source": [
    "## Evolution of scoring in the NBA ## \n",
    "As previously mentioned, scoring in the NBA has changed a lot throughout the decades. I'll make a comparison of shooting percentages and attempts since 1979. Also I’ll compare the performance of the most recognized shooters of each era starting from the 80’s.\n",
    "\n",
    "### Three point attempts throughout the years ###\n",
    "Shooting has evolved in many ways since it was first added to the toolset of the players in 1967; it was stated by then ABA commissioner George Mikan that the line was added to “[…]give the smaller player a chance to score and open up the defense to make the game more enjoyable to fans”.\n",
    "\n",
    "A common perception is that 3 point attempts have drastically increased in the last 5 years but that doesn't seem to be the case according to the data. More than anything the increment has had a clear linear and somewhat predictable increase. Since 2020 we have had a huge slowdown in attempts."
   ]
  },
  {
   "cell_type": "code",
   "execution_count": null,
   "id": "32fb2b90-7461-42e3-8e4d-2c01750cb3dd",
   "metadata": {},
   "outputs": [],
   "source": [
    "!pip install pandas\n",
    "!pip install matplotlib\n",
    "!pip install sklearn"
   ]
  },
  {
   "cell_type": "code",
   "execution_count": null,
   "id": "fe56aa1c",
   "metadata": {
    "vscode": {
     "languageId": "julia"
    }
   },
   "outputs": [],
   "source": [
    "import pandas as pd\n",
    "import matplotlib.pyplot as plt\n",
    "from sklearn.metrics import r2_score\n",
    "from sklearn.model_selection import train_test_split\n",
    "from sklearn.linear_model import LinearRegression\n",
    "\n",
    "import numpy as np\n",
    "\n",
    "# import game data\n",
    "\n",
    "games = pd.read_csv('./csv/game.csv')\n",
    "\n",
    "# remove games with missing data\n",
    "\n",
    "games = games.dropna(subset=['fg3a_home', 'fg3a_away', 'fg3_pct_home', 'fg3_pct_away', 'pts_home', 'pts_away'])\n",
    "\n",
    "# remove games previous to 1979\n",
    "\n",
    "games = games[games['game_date'] > '1979-01-01 00:00:00']\n",
    "\n",
    "# Get average sum of 3pt percentage per year\n",
    "\n",
    "games['game_date'] = pd.to_datetime(games['game_date'])\n",
    "\n",
    "games['year'] = games['game_date'].dt.year\n",
    "\n",
    "avg_3pt_percentage = games.groupby('year').agg({'fg3_pct_home':'mean', 'fg3_pct_away':'mean'}).reset_index()\n",
    "\n",
    "avg_3pt_percentage['avg3pt_percentage'] = (avg_3pt_percentage['fg3_pct_home'] + avg_3pt_percentage['fg3_pct_away'])/2\n",
    "\n",
    "# Add new column with the that goes from 1 to the number of years\n",
    "\n",
    "avg_3pt_percentage['year_number'] = range(1, len(avg_3pt_percentage) + 1)\n",
    "\n",
    "# Logarithmic fit\n",
    "\n",
    "x = avg_3pt_percentage['year_number'].values.reshape(-1, 1)\n",
    "\n",
    "y = avg_3pt_percentage['avg3pt_percentage'].values\n",
    "\n",
    "model = LinearRegression()\n",
    "\n",
    "model.fit(np.log(x), y)\n",
    "\n",
    "avg_3pt_percentage['log_fit'] = model.predict(np.log(x))\n",
    "\n",
    "# Polynomial fit\n",
    "\n",
    "x = avg_3pt_percentage['year_number'].values.reshape(-1, 1).flatten()\n",
    "\n",
    "print(x)\n",
    "\n",
    "y = avg_3pt_percentage['avg3pt_percentage'].values\n",
    "\n",
    "print(y)\n",
    "\n",
    "poly_fit = np.polyfit(x, y, 6)\n",
    "\n",
    "avg_3pt_percentage['poly_fit'] = np.polyval(poly_fit, x)\n",
    "\n",
    "print(avg_3pt_percentage['poly_fit'])\n",
    "\n",
    "# R2 score for each fit\n",
    "\n",
    "r2_log = round(r2_score(y, avg_3pt_percentage['log_fit']),2)\n",
    "\n",
    "r2_poly = round(r2_score(y, avg_3pt_percentage['poly_fit']), 2)\n",
    "\n",
    "print(f'R2 score for logarithmic fit: {r2_log}')\n",
    "\n",
    "print(f'R2 score for polynomial fit: {r2_poly}')\n",
    "\n",
    "# plot average 3pt percentage per year\n",
    "\n",
    "plt.plot(avg_3pt_percentage['year'], avg_3pt_percentage['avg3pt_percentage'], label='Average 3pt percentage')\n",
    "\n",
    "plt.plot(avg_3pt_percentage['year'], avg_3pt_percentage['log_fit'], label='Logarithmic fit')\n",
    "\n",
    "plt.plot(avg_3pt_percentage['year'], avg_3pt_percentage['poly_fit'], label='Polynomial fit')\n",
    "\n",
    "plt.xlabel('Year')\n",
    "\n",
    "plt.ylabel('Average 3pt percentage')\n",
    "\n",
    "plt.title('Average 3pt percentage per year')\n",
    "\n",
    "# Add R2 scores to the plot\n",
    "\n",
    "plt.text(1995, 0.30, f'R2 score for logarithmic fit: {r2_log}', fontsize=12)\n",
    "\n",
    "plt.text(1995, 0.25, f'R2 score for polynomial fit: {r2_poly}', fontsize=12)\n",
    "\n",
    "plt.legend()\n",
    "\n",
    "plt.savefig('./photos/avg3ptpercentage2.png')"
   ]
  }
 ],
 "metadata": {
  "kernelspec": {
   "display_name": "Python 3 (ipykernel)",
   "language": "python",
   "name": "python3"
  },
  "language_info": {
   "codemirror_mode": {
    "name": "ipython",
    "version": 3
   },
   "file_extension": ".py",
   "mimetype": "text/x-python",
   "name": "python",
   "nbconvert_exporter": "python",
   "pygments_lexer": "ipython3",
   "version": "3.12.7"
  }
 },
 "nbformat": 4,
 "nbformat_minor": 5
}
